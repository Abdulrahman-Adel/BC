{
 "cells": [
  {
   "cell_type": "code",
   "execution_count": 1,
   "metadata": {},
   "outputs": [],
   "source": [
    "import pandas as pd\n",
    "import numpy as np"
   ]
  },
  {
   "cell_type": "code",
   "execution_count": 2,
   "metadata": {},
   "outputs": [],
   "source": [
    "df = pd.read_csv(\"training.csv\",delimiter = \";\",decimal=\",\")\n",
    "df_val = pd.read_csv(\"validation.csv\",delimiter = \";\",decimal=\",\")"
   ]
  },
  {
   "cell_type": "code",
   "execution_count": 3,
   "metadata": {},
   "outputs": [],
   "source": [
    "df = pd.concat([df,df_val]).reset_index()\n",
    "\n",
    "df.drop(\"index\",axis=1,inplace=True)"
   ]
  },
  {
   "cell_type": "code",
   "execution_count": 4,
   "metadata": {},
   "outputs": [
    {
     "name": "stdout",
     "output_type": "stream",
     "text": [
      "variable1 : object\n",
      "variable2 : float64\n",
      "variable3 : float64\n",
      "variable4 : object\n",
      "variable5 : object\n",
      "variable6 : object\n",
      "variable7 : object\n",
      "variable8 : float64\n",
      "variable9 : object\n",
      "variable10 : object\n",
      "variable11 : int64\n",
      "variable12 : object\n",
      "variable13 : object\n",
      "variable14 : float64\n",
      "variable15 : int64\n",
      "variable17 : float64\n",
      "variable18 : object\n",
      "variable19 : int64\n",
      "classLabel : object\n"
     ]
    }
   ],
   "source": [
    "for col in df.columns:\n",
    "    print(col,\":\",df[col].dtype)"
   ]
  },
  {
   "cell_type": "code",
   "execution_count": 5,
   "metadata": {},
   "outputs": [
    {
     "name": "stdout",
     "output_type": "stream",
     "text": [
      "variable1 : ['a' 'b' nan]\n",
      "variable4 : ['u' 'y' nan 'l']\n",
      "variable5 : ['g' 'p' nan 'gg']\n",
      "variable6 : ['c' 'k' 'ff' 'i' 'j' 'q' 'W' 'd' 'm' 'cc' 'aa' 'r' 'x' 'e' nan]\n",
      "variable7 : ['v' 'ff' 'o' 'h' 'j' 'bb' 'n' 'z' nan 'dd']\n",
      "variable9 : ['f' 't']\n",
      "variable10 : ['t' 'f']\n",
      "variable12 : ['t' 'f']\n",
      "variable13 : ['g' 's' 'p']\n",
      "variable18 : ['t' nan 'f']\n",
      "classLabel : ['no.' 'yes.']\n"
     ]
    }
   ],
   "source": [
    "categorical_cols = [col for col in df.columns if df[col].dtype == \"object\"]\n",
    "\n",
    "for col in categorical_cols:\n",
    "    print(col,\":\",df[col].unique())"
   ]
  },
  {
   "cell_type": "code",
   "execution_count": 6,
   "metadata": {},
   "outputs": [
    {
     "name": "stdout",
     "output_type": "stream",
     "text": [
      "variable1 : ['b' 'a' nan]\n",
      "variable4 : ['u' 'y' nan]\n",
      "variable5 : ['g' 'p' nan]\n",
      "variable6 : ['e' 'c' 'd' 'aa' 'm' 'k' 'ff' 'W' 'q' 'i' 'x' 'cc' nan 'j']\n",
      "variable7 : ['bb' 'v' 'ff' 'z' 'h' nan 'dd' 'n' 'j']\n",
      "variable9 : ['t' 'f']\n",
      "variable10 : ['f' 't']\n",
      "variable12 : ['t' 'f']\n",
      "variable13 : ['s' 'g' 'p']\n",
      "variable18 : [nan 'f' 't']\n",
      "classLabel : ['no.' 'yes.']\n"
     ]
    }
   ],
   "source": [
    "for col in categorical_cols:\n",
    "    print(col,\":\",df_val[col].unique())"
   ]
  },
  {
   "cell_type": "code",
   "execution_count": 7,
   "metadata": {},
   "outputs": [
    {
     "name": "stdout",
     "output_type": "stream",
     "text": [
      "variable1 : [nan]\n",
      "variable4 : [nan, 'l']\n",
      "variable5 : [nan, 'gg']\n",
      "variable6 : ['r', nan]\n",
      "variable7 : ['o', nan]\n",
      "variable9 : []\n",
      "variable10 : []\n",
      "variable12 : []\n",
      "variable13 : []\n",
      "variable18 : [nan]\n",
      "classLabel : []\n"
     ]
    }
   ],
   "source": [
    "for col in categorical_cols:\n",
    "    df_unique = df[col].unique()\n",
    "    df_val_unique = df_val[col].unique()\n",
    "    print(col,\":\",[i for i in df_unique if i not in df_val_unique])"
   ]
  },
  {
   "cell_type": "code",
   "execution_count": 8,
   "metadata": {},
   "outputs": [
    {
     "data": {
      "text/plain": [
       "variable1       42\n",
       "variable2       42\n",
       "variable3        0\n",
       "variable4       66\n",
       "variable5       66\n",
       "variable6       69\n",
       "variable7       69\n",
       "variable8        0\n",
       "variable9        0\n",
       "variable10       0\n",
       "variable11       0\n",
       "variable12       0\n",
       "variable13       0\n",
       "variable14     103\n",
       "variable15       0\n",
       "variable17     103\n",
       "variable18    2256\n",
       "variable19       0\n",
       "classLabel       0\n",
       "dtype: int64"
      ]
     },
     "execution_count": 8,
     "metadata": {},
     "output_type": "execute_result"
    }
   ],
   "source": [
    "df.isna().sum()"
   ]
  },
  {
   "cell_type": "code",
   "execution_count": 9,
   "metadata": {},
   "outputs": [
    {
     "name": "stdout",
     "output_type": "stream",
     "text": [
      "percentage of NANs in variable1 : 1.08%\n",
      "percentage of NANs in variable2 : 1.08%\n",
      "percentage of NANs in variable3 : 0.0%\n",
      "percentage of NANs in variable4 : 1.69%\n",
      "percentage of NANs in variable5 : 1.69%\n",
      "percentage of NANs in variable6 : 1.77%\n",
      "percentage of NANs in variable7 : 1.77%\n",
      "percentage of NANs in variable8 : 0.0%\n",
      "percentage of NANs in variable9 : 0.0%\n",
      "percentage of NANs in variable10 : 0.0%\n",
      "percentage of NANs in variable11 : 0.0%\n",
      "percentage of NANs in variable12 : 0.0%\n",
      "percentage of NANs in variable13 : 0.0%\n",
      "percentage of NANs in variable14 : 2.64%\n",
      "percentage of NANs in variable15 : 0.0%\n",
      "percentage of NANs in variable17 : 2.64%\n",
      "percentage of NANs in variable18 : 57.85%\n",
      "percentage of NANs in variable19 : 0.0%\n",
      "percentage of NANs in classLabel : 0.0%\n"
     ]
    }
   ],
   "source": [
    "for col in df.columns:\n",
    "    res = np.round((df[col].isna().values.sum() / len(df)) * 100,2)\n",
    "    print(\"percentage of NANs in\",col,\":\",str(res)+\"%\")"
   ]
  },
  {
   "cell_type": "code",
   "execution_count": 10,
   "metadata": {},
   "outputs": [
    {
     "data": {
      "text/plain": [
       "yes.    3517\n",
       "no.      383\n",
       "Name: classLabel, dtype: int64"
      ]
     },
     "execution_count": 10,
     "metadata": {},
     "output_type": "execute_result"
    }
   ],
   "source": [
    "df.classLabel.value_counts()"
   ]
  },
  {
   "cell_type": "code",
   "execution_count": 11,
   "metadata": {},
   "outputs": [
    {
     "name": "stdout",
     "output_type": "stream",
     "text": [
      "\n",
      "variable1 :\n",
      "b    2523\n",
      "a    1335\n",
      "Name: variable1, dtype: int64\n",
      "\n",
      "variable4 :\n",
      "u    3204\n",
      "y     598\n",
      "l      32\n",
      "Name: variable4, dtype: int64\n",
      "\n",
      "variable5 :\n",
      "g     3204\n",
      "p      598\n",
      "gg      32\n",
      "Name: variable5, dtype: int64\n",
      "\n",
      "variable6 :\n",
      "c     827\n",
      "q     633\n",
      "W     379\n",
      "cc    356\n",
      "x     353\n",
      "aa    234\n",
      "i     209\n",
      "m     188\n",
      "k     186\n",
      "e     145\n",
      "ff    143\n",
      "d     105\n",
      "j      40\n",
      "r      33\n",
      "Name: variable6, dtype: int64\n",
      "\n",
      "variable7 :\n",
      "v     2139\n",
      "h     1008\n",
      "bb     359\n",
      "ff     162\n",
      "z       53\n",
      "j       38\n",
      "n       34\n",
      "dd      21\n",
      "o       17\n",
      "Name: variable7, dtype: int64\n",
      "\n",
      "variable9 :\n",
      "t    3286\n",
      "f     614\n",
      "Name: variable9, dtype: int64\n",
      "\n",
      "variable10 :\n",
      "t    2335\n",
      "f    1565\n",
      "Name: variable10, dtype: int64\n",
      "\n",
      "variable12 :\n",
      "f    2024\n",
      "t    1876\n",
      "Name: variable12, dtype: int64\n",
      "\n",
      "variable13 :\n",
      "g    3610\n",
      "s     207\n",
      "p      83\n",
      "Name: variable13, dtype: int64\n",
      "\n",
      "variable18 :\n",
      "t    1064\n",
      "f     580\n",
      "Name: variable18, dtype: int64\n",
      "\n",
      "classLabel :\n",
      "yes.    3517\n",
      "no.      383\n",
      "Name: classLabel, dtype: int64\n"
     ]
    }
   ],
   "source": [
    "for col in categorical_cols:\n",
    "    print(\"\\n\"+col,\":\")\n",
    "    print(df[col].value_counts())"
   ]
  },
  {
   "cell_type": "code",
   "execution_count": 12,
   "metadata": {},
   "outputs": [
    {
     "data": {
      "text/html": [
       "<div>\n",
       "<style scoped>\n",
       "    .dataframe tbody tr th:only-of-type {\n",
       "        vertical-align: middle;\n",
       "    }\n",
       "\n",
       "    .dataframe tbody tr th {\n",
       "        vertical-align: top;\n",
       "    }\n",
       "\n",
       "    .dataframe thead th {\n",
       "        text-align: right;\n",
       "    }\n",
       "</style>\n",
       "<table border=\"1\" class=\"dataframe\">\n",
       "  <thead>\n",
       "    <tr style=\"text-align: right;\">\n",
       "      <th></th>\n",
       "      <th>variable1</th>\n",
       "      <th>variable4</th>\n",
       "      <th>variable5</th>\n",
       "      <th>variable6</th>\n",
       "      <th>variable7</th>\n",
       "      <th>variable9</th>\n",
       "      <th>variable10</th>\n",
       "      <th>variable12</th>\n",
       "      <th>variable13</th>\n",
       "      <th>variable18</th>\n",
       "      <th>classLabel</th>\n",
       "    </tr>\n",
       "  </thead>\n",
       "  <tbody>\n",
       "    <tr>\n",
       "      <th>variable1</th>\n",
       "      <td>1.000000</td>\n",
       "      <td>0.058743</td>\n",
       "      <td>0.058743</td>\n",
       "      <td>-0.025470</td>\n",
       "      <td>0.032155</td>\n",
       "      <td>-0.003361</td>\n",
       "      <td>0.086757</td>\n",
       "      <td>-0.152608</td>\n",
       "      <td>0.018042</td>\n",
       "      <td>-0.003326</td>\n",
       "      <td>-0.016022</td>\n",
       "    </tr>\n",
       "    <tr>\n",
       "      <th>variable4</th>\n",
       "      <td>0.058743</td>\n",
       "      <td>1.000000</td>\n",
       "      <td>1.000000</td>\n",
       "      <td>0.053928</td>\n",
       "      <td>0.015957</td>\n",
       "      <td>-0.103240</td>\n",
       "      <td>0.107151</td>\n",
       "      <td>-0.184375</td>\n",
       "      <td>-0.085868</td>\n",
       "      <td>0.111784</td>\n",
       "      <td>-0.116802</td>\n",
       "    </tr>\n",
       "    <tr>\n",
       "      <th>variable5</th>\n",
       "      <td>0.058743</td>\n",
       "      <td>1.000000</td>\n",
       "      <td>1.000000</td>\n",
       "      <td>0.053928</td>\n",
       "      <td>0.015957</td>\n",
       "      <td>-0.103240</td>\n",
       "      <td>0.107151</td>\n",
       "      <td>-0.184375</td>\n",
       "      <td>-0.085868</td>\n",
       "      <td>0.111784</td>\n",
       "      <td>-0.116802</td>\n",
       "    </tr>\n",
       "    <tr>\n",
       "      <th>variable6</th>\n",
       "      <td>-0.025470</td>\n",
       "      <td>0.053928</td>\n",
       "      <td>0.053928</td>\n",
       "      <td>1.000000</td>\n",
       "      <td>0.058157</td>\n",
       "      <td>0.151783</td>\n",
       "      <td>-0.058595</td>\n",
       "      <td>-0.082666</td>\n",
       "      <td>-0.187289</td>\n",
       "      <td>0.002054</td>\n",
       "      <td>0.086294</td>\n",
       "    </tr>\n",
       "    <tr>\n",
       "      <th>variable7</th>\n",
       "      <td>0.032155</td>\n",
       "      <td>0.015957</td>\n",
       "      <td>0.015957</td>\n",
       "      <td>0.058157</td>\n",
       "      <td>1.000000</td>\n",
       "      <td>0.082479</td>\n",
       "      <td>-0.022368</td>\n",
       "      <td>0.014132</td>\n",
       "      <td>-0.121388</td>\n",
       "      <td>-0.023299</td>\n",
       "      <td>0.054952</td>\n",
       "    </tr>\n",
       "    <tr>\n",
       "      <th>variable9</th>\n",
       "      <td>-0.003361</td>\n",
       "      <td>-0.103240</td>\n",
       "      <td>-0.103240</td>\n",
       "      <td>0.151783</td>\n",
       "      <td>0.082479</td>\n",
       "      <td>1.000000</td>\n",
       "      <td>-0.410227</td>\n",
       "      <td>-0.056855</td>\n",
       "      <td>-0.368965</td>\n",
       "      <td>-0.112657</td>\n",
       "      <td>0.581259</td>\n",
       "    </tr>\n",
       "    <tr>\n",
       "      <th>variable10</th>\n",
       "      <td>0.086757</td>\n",
       "      <td>0.107151</td>\n",
       "      <td>0.107151</td>\n",
       "      <td>-0.058595</td>\n",
       "      <td>-0.022368</td>\n",
       "      <td>-0.410227</td>\n",
       "      <td>1.000000</td>\n",
       "      <td>0.005031</td>\n",
       "      <td>0.298980</td>\n",
       "      <td>0.190021</td>\n",
       "      <td>-0.251914</td>\n",
       "    </tr>\n",
       "    <tr>\n",
       "      <th>variable12</th>\n",
       "      <td>-0.152608</td>\n",
       "      <td>-0.184375</td>\n",
       "      <td>-0.184375</td>\n",
       "      <td>-0.082666</td>\n",
       "      <td>0.014132</td>\n",
       "      <td>-0.056855</td>\n",
       "      <td>0.005031</td>\n",
       "      <td>1.000000</td>\n",
       "      <td>0.106314</td>\n",
       "      <td>0.013100</td>\n",
       "      <td>-0.024544</td>\n",
       "    </tr>\n",
       "    <tr>\n",
       "      <th>variable13</th>\n",
       "      <td>0.018042</td>\n",
       "      <td>-0.085868</td>\n",
       "      <td>-0.085868</td>\n",
       "      <td>-0.187289</td>\n",
       "      <td>-0.121388</td>\n",
       "      <td>-0.368965</td>\n",
       "      <td>0.298980</td>\n",
       "      <td>0.106314</td>\n",
       "      <td>1.000000</td>\n",
       "      <td>0.085561</td>\n",
       "      <td>-0.027269</td>\n",
       "    </tr>\n",
       "    <tr>\n",
       "      <th>variable18</th>\n",
       "      <td>-0.003326</td>\n",
       "      <td>0.111784</td>\n",
       "      <td>0.111784</td>\n",
       "      <td>0.002054</td>\n",
       "      <td>-0.023299</td>\n",
       "      <td>-0.112657</td>\n",
       "      <td>0.190021</td>\n",
       "      <td>0.013100</td>\n",
       "      <td>0.085561</td>\n",
       "      <td>1.000000</td>\n",
       "      <td>-0.123522</td>\n",
       "    </tr>\n",
       "    <tr>\n",
       "      <th>classLabel</th>\n",
       "      <td>-0.016022</td>\n",
       "      <td>-0.116802</td>\n",
       "      <td>-0.116802</td>\n",
       "      <td>0.086294</td>\n",
       "      <td>0.054952</td>\n",
       "      <td>0.581259</td>\n",
       "      <td>-0.251914</td>\n",
       "      <td>-0.024544</td>\n",
       "      <td>-0.027269</td>\n",
       "      <td>-0.123522</td>\n",
       "      <td>1.000000</td>\n",
       "    </tr>\n",
       "  </tbody>\n",
       "</table>\n",
       "</div>"
      ],
      "text/plain": [
       "            variable1  variable4  variable5  variable6  variable7  variable9  \\\n",
       "variable1    1.000000   0.058743   0.058743  -0.025470   0.032155  -0.003361   \n",
       "variable4    0.058743   1.000000   1.000000   0.053928   0.015957  -0.103240   \n",
       "variable5    0.058743   1.000000   1.000000   0.053928   0.015957  -0.103240   \n",
       "variable6   -0.025470   0.053928   0.053928   1.000000   0.058157   0.151783   \n",
       "variable7    0.032155   0.015957   0.015957   0.058157   1.000000   0.082479   \n",
       "variable9   -0.003361  -0.103240  -0.103240   0.151783   0.082479   1.000000   \n",
       "variable10   0.086757   0.107151   0.107151  -0.058595  -0.022368  -0.410227   \n",
       "variable12  -0.152608  -0.184375  -0.184375  -0.082666   0.014132  -0.056855   \n",
       "variable13   0.018042  -0.085868  -0.085868  -0.187289  -0.121388  -0.368965   \n",
       "variable18  -0.003326   0.111784   0.111784   0.002054  -0.023299  -0.112657   \n",
       "classLabel  -0.016022  -0.116802  -0.116802   0.086294   0.054952   0.581259   \n",
       "\n",
       "            variable10  variable12  variable13  variable18  classLabel  \n",
       "variable1     0.086757   -0.152608    0.018042   -0.003326   -0.016022  \n",
       "variable4     0.107151   -0.184375   -0.085868    0.111784   -0.116802  \n",
       "variable5     0.107151   -0.184375   -0.085868    0.111784   -0.116802  \n",
       "variable6    -0.058595   -0.082666   -0.187289    0.002054    0.086294  \n",
       "variable7    -0.022368    0.014132   -0.121388   -0.023299    0.054952  \n",
       "variable9    -0.410227   -0.056855   -0.368965   -0.112657    0.581259  \n",
       "variable10    1.000000    0.005031    0.298980    0.190021   -0.251914  \n",
       "variable12    0.005031    1.000000    0.106314    0.013100   -0.024544  \n",
       "variable13    0.298980    0.106314    1.000000    0.085561   -0.027269  \n",
       "variable18    0.190021    0.013100    0.085561    1.000000   -0.123522  \n",
       "classLabel   -0.251914   -0.024544   -0.027269   -0.123522    1.000000  "
      ]
     },
     "execution_count": 12,
     "metadata": {},
     "output_type": "execute_result"
    }
   ],
   "source": [
    "df[categorical_cols].apply(lambda x : pd.factorize(x)[0]).corr(method='pearson', min_periods=1)"
   ]
  }
 ],
 "metadata": {
  "kernelspec": {
   "display_name": "Python 3",
   "language": "python",
   "name": "python3"
  },
  "language_info": {
   "codemirror_mode": {
    "name": "ipython",
    "version": 3
   },
   "file_extension": ".py",
   "mimetype": "text/x-python",
   "name": "python",
   "nbconvert_exporter": "python",
   "pygments_lexer": "ipython3",
   "version": "3.7.7"
  }
 },
 "nbformat": 4,
 "nbformat_minor": 4
}
