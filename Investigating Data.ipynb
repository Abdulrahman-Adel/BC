{
 "cells": [
  {
   "cell_type": "code",
   "execution_count": 1,
   "metadata": {},
   "outputs": [],
   "source": [
    "import pandas as pd\n",
    "import numpy as np"
   ]
  },
  {
   "cell_type": "code",
   "execution_count": 2,
   "metadata": {},
   "outputs": [],
   "source": [
    "df = pd.read_csv(\"training.csv\",delimiter = \";\",decimal=\",\")\n",
    "df_val = pd.read_csv(\"validation.csv\",delimiter = \";\",decimal=\",\")"
   ]
  },
  {
   "cell_type": "code",
   "execution_count": 3,
   "metadata": {},
   "outputs": [],
   "source": [
    "df = pd.concat([df,df_val]).reset_index()\n",
    "\n",
    "df.drop(\"index\",axis=1,inplace=True)"
   ]
  },
  {
   "cell_type": "code",
   "execution_count": 4,
   "metadata": {},
   "outputs": [
    {
     "name": "stdout",
     "output_type": "stream",
     "text": [
      "variable1 : object\n",
      "variable2 : float64\n",
      "variable3 : float64\n",
      "variable4 : object\n",
      "variable5 : object\n",
      "variable6 : object\n",
      "variable7 : object\n",
      "variable8 : float64\n",
      "variable9 : object\n",
      "variable10 : object\n",
      "variable11 : int64\n",
      "variable12 : object\n",
      "variable13 : object\n",
      "variable14 : float64\n",
      "variable15 : int64\n",
      "variable17 : float64\n",
      "variable18 : object\n",
      "variable19 : int64\n",
      "classLabel : object\n"
     ]
    }
   ],
   "source": [
    "for col in df.columns:\n",
    "    print(col,\":\",df[col].dtype)"
   ]
  },
  {
   "cell_type": "code",
   "execution_count": 5,
   "metadata": {},
   "outputs": [
    {
     "name": "stdout",
     "output_type": "stream",
     "text": [
      "variable1 : ['a' 'b' nan]\n",
      "variable4 : ['u' 'y' nan 'l']\n",
      "variable5 : ['g' 'p' nan 'gg']\n",
      "variable6 : ['c' 'k' 'ff' 'i' 'j' 'q' 'W' 'd' 'm' 'cc' 'aa' 'r' 'x' 'e' nan]\n",
      "variable7 : ['v' 'ff' 'o' 'h' 'j' 'bb' 'n' 'z' nan 'dd']\n",
      "variable9 : ['f' 't']\n",
      "variable10 : ['t' 'f']\n",
      "variable12 : ['t' 'f']\n",
      "variable13 : ['g' 's' 'p']\n",
      "variable18 : ['t' nan 'f']\n",
      "classLabel : ['no.' 'yes.']\n"
     ]
    }
   ],
   "source": [
    "categorical_cols = [col for col in df.columns if df[col].dtype == \"object\"]\n",
    "\n",
    "for col in categorical_cols:\n",
    "    print(col,\":\",df[col].unique())"
   ]
  },
  {
   "cell_type": "code",
   "execution_count": 6,
   "metadata": {},
   "outputs": [
    {
     "data": {
      "text/plain": [
       "variable1       42\n",
       "variable2       42\n",
       "variable3        0\n",
       "variable4       66\n",
       "variable5       66\n",
       "variable6       69\n",
       "variable7       69\n",
       "variable8        0\n",
       "variable9        0\n",
       "variable10       0\n",
       "variable11       0\n",
       "variable12       0\n",
       "variable13       0\n",
       "variable14     103\n",
       "variable15       0\n",
       "variable17     103\n",
       "variable18    2256\n",
       "variable19       0\n",
       "classLabel       0\n",
       "dtype: int64"
      ]
     },
     "execution_count": 6,
     "metadata": {},
     "output_type": "execute_result"
    }
   ],
   "source": [
    "df.isna().sum()"
   ]
  },
  {
   "cell_type": "code",
   "execution_count": 10,
   "metadata": {},
   "outputs": [
    {
     "name": "stdout",
     "output_type": "stream",
     "text": [
      "percentage of NANs in variable1 : 1.08%\n",
      "percentage of NANs in variable2 : 1.08%\n",
      "percentage of NANs in variable3 : 0.0%\n",
      "percentage of NANs in variable4 : 1.69%\n",
      "percentage of NANs in variable5 : 1.69%\n",
      "percentage of NANs in variable6 : 1.77%\n",
      "percentage of NANs in variable7 : 1.77%\n",
      "percentage of NANs in variable8 : 0.0%\n",
      "percentage of NANs in variable9 : 0.0%\n",
      "percentage of NANs in variable10 : 0.0%\n",
      "percentage of NANs in variable11 : 0.0%\n",
      "percentage of NANs in variable12 : 0.0%\n",
      "percentage of NANs in variable13 : 0.0%\n",
      "percentage of NANs in variable14 : 2.64%\n",
      "percentage of NANs in variable15 : 0.0%\n",
      "percentage of NANs in variable17 : 2.64%\n",
      "percentage of NANs in variable18 : 57.85%\n",
      "percentage of NANs in variable19 : 0.0%\n",
      "percentage of NANs in classLabel : 0.0%\n"
     ]
    }
   ],
   "source": [
    "for col in df.columns:\n",
    "    res = np.round((df[col].isna().values.sum() / len(df)) * 100,2)\n",
    "    print(\"percentage of NANs in\",col,\":\",str(res)+\"%\")"
   ]
  }
 ],
 "metadata": {
  "kernelspec": {
   "display_name": "Python 3",
   "language": "python",
   "name": "python3"
  },
  "language_info": {
   "codemirror_mode": {
    "name": "ipython",
    "version": 3
   },
   "file_extension": ".py",
   "mimetype": "text/x-python",
   "name": "python",
   "nbconvert_exporter": "python",
   "pygments_lexer": "ipython3",
   "version": "3.7.7"
  }
 },
 "nbformat": 4,
 "nbformat_minor": 4
}
